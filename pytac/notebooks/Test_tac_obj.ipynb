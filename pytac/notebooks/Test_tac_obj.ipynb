{
 "cells": [
  {
   "cell_type": "markdown",
   "id": "542a6bda-f50e-4b6a-a806-abdde4665c3b",
   "metadata": {},
   "source": [
    "# Testing tac_obj"
   ]
  },
  {
   "cell_type": "code",
   "execution_count": null,
   "id": "87d1f2db-b510-4b1a-84ea-c448b381380e",
   "metadata": {},
   "outputs": [],
   "source": [
    "from pytac import tac_obj"
   ]
  },
  {
   "cell_type": "code",
   "execution_count": null,
   "id": "95321eaa-efdb-476c-8b38-103d207049b9",
   "metadata": {},
   "outputs": [],
   "source": [
    "tac_plan_a = \"\"\"\n",
    "#\n",
    "# Line of filter for Plan_A\n",
    "#\n",
    "TAC_BLOCK Plan_A_TF0 DigitalTF 1.27608156e-07 -1.09201328e-01 2.01128208e-02 -2.20787340e-01 8.41941539e-02\n",
    "TAC_BLOCK Plan_A_TF1 DigitalTF 1.00000000e+00 -7.35758822e-01 1.35335273e-01 -9.82584634e-01 2.79652134e-01 # My comment //color=red, style=dashed\n",
    "TAC_BLOCK Plan_A_TF2 DigitalTF 1.00000000e+00 2.00000000e+00 1.00000000e+00 6.41074732e-01 -5.06380420e-03\n",
    "TAC_BLOCK Plan_A_TF3 DigitalTF 1.00000000e+00 -1.21743565e+00 3.53285705e-01 -1.98930230e+00 9.89328869e-01\n",
    "TAC_BLOCK Plan_A_TF4 DigitalTF 1.00000000e+00 -1.99097739e+00 9.90977393e-01 -1.99606523e+00 9.96080626e-01\n",
    "\n",
    "TAC_LINK Plan_A_L0\tAcc_M4 1\tPlan_A_TF0\t1\n",
    "TAC_LINK Plan_A_L1\tPlan_A_TF0 1\tPlan_A_TF1\t1\n",
    "TAC_LINK Plan_A_L2\tPlan_A_TF1 1\tPlan_A_TF2\t1 # // style=dashed, color=purple\n",
    "TAC_LINK Plan_A_L3\tPlan_A_TF2 1\tPlan_A_TF3\t1\n",
    "TAC_LINK Plan_A_L4\tPlan_A_TF3 1\tPlan_A_TF4\t1\n",
    "TAC_LINK Plan_A_L5\tPlan_A_TF4 1\tOpl_Sign_M4\t1\n",
    "\n",
    "# End of filter Plan_A\n",
    "#\n",
    "\n",
    "\"\"\""
   ]
  },
  {
   "cell_type": "code",
   "execution_count": null,
   "id": "b1e3e033-3287-4f17-b136-81ac7df790ae",
   "metadata": {},
   "outputs": [],
   "source": [
    "tac_plan_a_graph = tac_obj(src=tac_plan_a.splitlines())\n",
    "tac_plan_a_graph.graph\n"
   ]
  },
  {
   "cell_type": "code",
   "execution_count": null,
   "id": "50bda727-f00e-4bd3-b4e2-2bd5e92abcb7",
   "metadata": {},
   "outputs": [],
   "source": []
  }
 ],
 "metadata": {
  "kernelspec": {
   "display_name": "Python 3 (ipykernel)",
   "language": "python",
   "name": "python3"
  },
  "language_info": {
   "codemirror_mode": {
    "name": "ipython",
    "version": 3
   },
   "file_extension": ".py",
   "mimetype": "text/x-python",
   "name": "python",
   "nbconvert_exporter": "python",
   "pygments_lexer": "ipython3",
   "version": "3.8.13"
  }
 },
 "nbformat": 4,
 "nbformat_minor": 5
}

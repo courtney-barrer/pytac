{
 "cells": [
  {
   "cell_type": "markdown",
   "id": "542a6bda-f50e-4b6a-a806-abdde4665c3b",
   "metadata": {},
   "source": [
    "# Testing tac_obj"
   ]
  },
  {
   "cell_type": "code",
   "execution_count": null,
   "id": "87d1f2db-b510-4b1a-84ea-c448b381380e",
   "metadata": {},
   "outputs": [],
   "source": [
    "import pytac"
   ]
  },
  {
   "cell_type": "code",
   "execution_count": null,
   "id": "95321eaa-efdb-476c-8b38-103d207049b9",
   "metadata": {},
   "outputs": [],
   "source": [
    "tac_plan_a = \"\"\"\n",
    "#\n",
    "# Line of filter for Plan_A\n",
    "#\n",
    "TAC_BLOCK Plan_A_TF0 DigitalTF 1.27608156e-07 -1.09201328e-01 2.01128208e-02 -2.20787340e-01 8.41941539e-02\n",
    "TAC_BLOCK Plan_A_TF1 DigitalTF 1.00000000e+00 -7.35758822e-01 1.35335273e-01 -9.82584634e-01 2.79652134e-01 # My comment //color=red, style=dashed\n",
    "TAC_BLOCK Plan_A_TF2 DigitalTF 1.00000000e+00 2.00000000e+00 1.00000000e+00 6.41074732e-01 -5.06380420e-03\n",
    "TAC_BLOCK Plan_A_TF3 DigitalTF 1.00000000e+00 -1.21743565e+00 3.53285705e-01 -1.98930230e+00 9.89328869e-01\n",
    "TAC_BLOCK Plan_A_TF4 DigitalTF 1.00000000e+00 -1.99097739e+00 9.90977393e-01 -1.99606523e+00 9.96080626e-01\n",
    "\n",
    "TAC_LINK Plan_A_L0\tAcc_M4 1\tPlan_A_TF0\t1\n",
    "TAC_LINK Plan_A_L1\tPlan_A_TF0 1\tPlan_A_TF1\t1\n",
    "TAC_LINK Plan_A_L2\tPlan_A_TF1 1\tPlan_A_TF2\t1 # // style=dashed, color=purple\n",
    "TAC_LINK Plan_A_L3\tPlan_A_TF2 1\tPlan_A_TF3\t1\n",
    "TAC_LINK Plan_A_L4\tPlan_A_TF3 1\tPlan_A_TF4\t1\n",
    "TAC_LINK Plan_A_L5\tPlan_A_TF4 1\tOpl_Sign_M4\t1\n",
    "\n",
    "# End of filter Plan_A\n",
    "#\n",
    "\n",
    "\"\"\""
   ]
  },
  {
   "cell_type": "code",
   "execution_count": null,
   "id": "b1e3e033-3287-4f17-b136-81ac7df790ae",
   "metadata": {},
   "outputs": [],
   "source": [
    "tac_plan_a_graph = pytac.tac_obj(src=tac_plan_a.splitlines())\n",
    "tac_plan_a_graph.graph\n"
   ]
  },
  {
   "cell_type": "code",
   "execution_count": null,
   "id": "0da17b8f-d244-44f1-92e6-86f9d0563dc0",
   "metadata": {},
   "outputs": [],
   "source": [
    "tac_plan_a_graph.graph.save(filename=\"test_graph.gv\")"
   ]
  },
  {
   "cell_type": "code",
   "execution_count": null,
   "id": "50bda727-f00e-4bd3-b4e2-2bd5e92abcb7",
   "metadata": {},
   "outputs": [],
   "source": [
    "import numpy as np\n",
    "import matplotlib.pyplot as plt\n",
    "import sympy as sp\n",
    "import os"
   ]
  },
  {
   "cell_type": "code",
   "execution_count": null,
   "id": "0e4e55d9-340f-4171-8267-ac5561b39518",
   "metadata": {},
   "outputs": [],
   "source": [
    "\n",
    "z_control = None\n",
    "\n",
    "s, z = sp.symbols(\"s, z\")"
   ]
  },
  {
   "cell_type": "code",
   "execution_count": null,
   "id": "b2ede759-92ae-46c5-b097-d3178fe5f5d3",
   "metadata": {},
   "outputs": [],
   "source": [
    "tweaker = pytac.control.c2d(pytac.control.tf(*pytac.sig.butter(3, (10*2*np.pi, 150*2*np.pi), btype=\"bandpass\", analog=True)),\n",
    "                                250e-6, method=\"zoh\")\n",
    "z_control = tweaker.z"
   ]
  },
  {
   "cell_type": "code",
   "execution_count": null,
   "id": "b9e6a348-1afe-42df-81dd-bb6060124cf7",
   "metadata": {},
   "outputs": [],
   "source": [
    "tweaker"
   ]
  },
  {
   "cell_type": "code",
   "execution_count": null,
   "id": "1fc77541-7298-4fb3-a37c-4eea8313bb42",
   "metadata": {},
   "outputs": [],
   "source": [
    "test_params = pytac.tf2tac_sos(tweaker, z_control, verbose=False)\n",
    "\n",
    "#pytac.check_tac(test_params, atf, zc=z_control)\n",
    "\n",
    "tac_plan_b = pytac.params2source(test_params, basename=\"Plan_B\", \n",
    "                             input_block=\"Acc_M4\",\n",
    "                             output_block=\"Opl_Sign_M4\",\n",
    "                             #attr_string=\"# // style=dashed\",\n",
    "                             printit=False)\n",
    "tac_plan_b_graph = pytac.tac_obj(src=tac_plan_b.splitlines())\n",
    "tac_plan_b_graph.graph"
   ]
  },
  {
   "cell_type": "code",
   "execution_count": null,
   "id": "cd73f4b1-825e-4af0-9ecf-7708f962cc38",
   "metadata": {},
   "outputs": [],
   "source": []
  },
  {
   "cell_type": "code",
   "execution_count": null,
   "id": "d2c195ea-399d-475d-98f1-2664d1c1891e",
   "metadata": {},
   "outputs": [],
   "source": [
    "with open(\"/lhome/romain/Documents/hi5/gravity+/TTRs/TTR-110.0016/TAC_modifications/vib-upgrade.tacsrc\", \"r\") as afile:\n",
    "    initial_tac_src = afile.read()\n",
    "modified_tac_src, diff_tac_src = pytac.replacelines(src=initial_tac_src,\n",
    "                                             added=tac_plan_b,\n",
    "                                             removed=[\"TF1_M4\", \"TF2_M4\",\"TF3_M4\"],\n",
    "                                         showdiff=True)"
   ]
  },
  {
   "cell_type": "code",
   "execution_count": null,
   "id": "da586489-2b58-495c-9bac-7d6fc3ee2ffe",
   "metadata": {},
   "outputs": [],
   "source": []
  },
  {
   "cell_type": "code",
   "execution_count": null,
   "id": "b4da865d-97cb-4a4c-80f0-ade72df66a29",
   "metadata": {},
   "outputs": [],
   "source": [
    "plt.figure(dpi=50)\n",
    "pytac.control.pzmap(building_dl_approx_5, grid=True)\n",
    "plt.show()\n",
    "params_5 = pytac.tf2tac_sos(building_dl_approx_5, z_control, verbose=False)\n",
    "pytac.check_tac(params_5, building_dl_approx_5)\n",
    "\n",
    "tac_plan_c = pytac.params2source(params_5, basename=\"Plan_C\", \n",
    "                             input_block=\"Acc_M4\",\n",
    "                             output_block=\"Opl_Sign_M4\",\n",
    "                 printit=False)\n",
    "tac_plan_c_graph = tac_obj(src=tac_plan_c.splitlines())\n",
    "tac_plan_c_graph.graph"
   ]
  },
  {
   "cell_type": "code",
   "execution_count": null,
   "id": "b00aff07-312a-4b04-91b2-4576a0f82544",
   "metadata": {},
   "outputs": [],
   "source": [
    "with open(\"/lhome/romain/Documents/hi5/gravity+/TTRs/TTR-110.0016/TAC_modifications/vib-upgrade.tacsrc\", \"r\") as afile:\n",
    "    initial_tac_src = afile.read()\n",
    "\n",
    "noise_mod = \"\"\"\n",
    "#\n",
    "# Adding a switch path for direct, filtered white noise for \n",
    "# measurement of the transfer function of the delay lines\n",
    "#\n",
    "# Adding a band pass Butterworth filter for the noise\n",
    "# third order from 1 to 500Hz implemented in 3 blocks\n",
    "#\n",
    "TAC_BLOCK Noise_Gain Gain 1e-6                     #//color=forestgreen\n",
    "TAC_BLOCK TF1_Noise DigitalTF 3.1532607647e-02 1.9999943412e+00 9.9999434128e-01 -1.0464725204e+00 4.7894953758e-01  #//color=forestgreen\n",
    "TAC_BLOCK TF2_Noise DigitalTF 1.0000000000e+00 5.9421722698e-07 -1.0000107233e+00 -1.4142135668e+00 4.1513401504e-01  #//color=forestgreen\n",
    "TAC_BLOCK TF3_Noise DigitalTF 1.0000000000e+00 -1.9999949355e+00 9.9999493549e-01 -1.9984309531e+00 9.9843342322e-01   #//color=forestgreen\n",
    "\n",
    "TAC_BLOCK Out_Switch ManualSwitch 1 2  #//color=forestgreen\n",
    "\n",
    "\n",
    "\n",
    "TAC_LINK Raw_noise Noise 1 Noise_Gain 1  #//color=forestgreen\n",
    "TAC_LINK ngained Noise_Gain 1 TF1_Noise 1  #//color=forestgreen\n",
    "TAC_LINK nfilt1 TF1_Noise 1 TF2_Noise 1  #//color=forestgreen\n",
    "TAC_LINK nfilt2 TF2_Noise 1 TF3_Noise 1  #//color=forestgreen\n",
    "\n",
    "\n",
    "TAC_LINK  F_Noise_to_switch TF3_Noise 1 TST_Switch 4  #//color=forestgreen\n",
    "\n",
    "# Now we feed the output signal through a switch where one\n",
    "# can select to use noise instead\n",
    "\n",
    "TAC_BLOCK Out_Switch ManualSwitch 1,2     #//color=forestgreen\n",
    "TAC_LINK  Opl_to_Switch  Opl_Sign_Gain  1  Out_Switch 1    #//color=forestgreen\n",
    "TAC_LINK  Filtered_Noise TF3_Noise      1  Out_Switch 2    #//color=forestgreen\n",
    "TAC_LINK  Opl_or_Noise   Out_Switch     1  UT_Vib 2     #//color=forestgreen\n",
    "\n",
    "\n",
    "\n",
    "# Extra switch for \n",
    "TAC_BLOCK Out_Info_Switch ManualSwitch 1,2     #//color=forestgreen\n",
    "TAC_LINK Vib_Opl Opl_tot 1 Out_Info_Switch 1     #//color=forestgreen\n",
    "TAC_LINK Filtered_Noise_Info TF3_Noise 1 Out_Info_Switch 2     #//color=forestgreen\n",
    "TAC_LINK  Opl_or_Noise_Info   Out_Info_Switch  1   UT_Raw2 1     #//color=forestgreen\n",
    "\n",
    "\"\"\" \n",
    "\n",
    "\n",
    "modified_tac_src, diff_tac_src = pytac.replacelines(src=initial_tac_src,\n",
    "                                             added=noise_mod,\n",
    "                                             removed=[],\n",
    "                                            match_names=[\"TAC_LINK  Opl           Opl_Sig\",\n",
    "                                                        \"TAC_LINK  VibOpl   Opl_tot   1\"],\n",
    "                                             showdiff=True)\n",
    "tac_diff_graph = pytac.tac_obj(src=diff_tac_src.splitlines(),)TAC_LINK  VibOpl   Opl_tot   1\n",
    "#tac_diff_graph.graph.save(\"tac_diff_graph.gv\")"
   ]
  },
  {
   "cell_type": "code",
   "execution_count": null,
   "id": "b6c58c06-a049-47ec-b6c8-53082f811df0",
   "metadata": {},
   "outputs": [],
   "source": [
    "with open(\"/lhome/romain/Documents/\")"
   ]
  },
  {
   "cell_type": "code",
   "execution_count": null,
   "id": "05a3ce53-1e92-4fe8-8c6b-9c9cd779be63",
   "metadata": {},
   "outputs": [],
   "source": []
  }
 ],
 "metadata": {
  "kernelspec": {
   "display_name": "Python 3 (ipykernel)",
   "language": "python",
   "name": "python3"
  },
  "language_info": {
   "codemirror_mode": {
    "name": "ipython",
    "version": 3
   },
   "file_extension": ".py",
   "mimetype": "text/x-python",
   "name": "python",
   "nbconvert_exporter": "python",
   "pygments_lexer": "ipython3",
   "version": "3.8.13"
  }
 },
 "nbformat": 4,
 "nbformat_minor": 5
}
